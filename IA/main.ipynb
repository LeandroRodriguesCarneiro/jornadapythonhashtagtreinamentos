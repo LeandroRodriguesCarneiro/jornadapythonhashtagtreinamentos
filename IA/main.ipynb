{
 "cells": [
  {
   "cell_type": "code",
   "execution_count": null,
   "metadata": {},
   "outputs": [],
   "source": [
    "import pandas as pd\n",
    "\n",
    "#importar e fazer um pré-tratamento de dados, como remover valores nulos e colunas de índices aleatórios.\n",
    "df = pd.read_csv('clientes.csv')\n",
    "display(df.info())\n",
    "display(df)\n"
   ]
  },
  {
   "cell_type": "code",
   "execution_count": null,
   "metadata": {},
   "outputs": [],
   "source": [
    "from sklearn.preprocessing import LabelEncoder\n",
    "\n",
    "# codificar as colunas que contem texto. \n",
    "for column in df.columns:\n",
    "    if df[column].dtype == 'object' and column != 'score_credito':\n",
    "        df[column] = LabelEncoder().fit_transform(df[column])\n",
    "\n",
    "# verificando se as colunas foram codificadas.\n",
    "for column in df.columns:\n",
    "    if df[column].dtype == 'object' and column != 'score_credito':\n",
    "        print(column)\n",
    "\n",
    "display(df)"
   ]
  },
  {
   "cell_type": "code",
   "execution_count": null,
   "metadata": {},
   "outputs": [],
   "source": [
    "# separar colunas em x e y \n",
    "# x = dados que serão analisados pela inteligência artificial.\n",
    "x = df.drop(columns=['score_credito','id_cliente'])\n",
    "\n",
    "# y = as respostas das análises.\n",
    "y = df['score_credito']\n",
    "\n",
    "display(x)\n",
    "display(y)"
   ]
  },
  {
   "cell_type": "code",
   "execution_count": null,
   "metadata": {},
   "outputs": [],
   "source": [
    "# separar as amostras em treino e teste.\n",
    "from sklearn.model_selection import train_test_split\n",
    "\n",
    "x_train, x_test, y_train, y_test = train_test_split(x, y, test_size= 0.3, random_state=1)"
   ]
  },
  {
   "cell_type": "code",
   "execution_count": null,
   "metadata": {},
   "outputs": [],
   "source": [
    "# criar os modelos de inteligência artificial.\n",
    "from sklearn.ensemble import RandomForestClassifier\n",
    "from sklearn.neighbors import KNeighborsClassifier\n",
    "\n",
    "model_decision_tree = RandomForestClassifier() # modelo de árvore de decisão.\n",
    "model_knn = KNeighborsClassifier() # modelo nearest neibors - vizinhos próximos.\n",
    "\n",
    "# treinando os modelos.\n",
    "model_decision_tree.fit(x_train, y_train)\n",
    "model_knn.fit(x_train, y_train)\n"
   ]
  },
  {
   "cell_type": "code",
   "execution_count": null,
   "metadata": {},
   "outputs": [],
   "source": [
    "# se o modelo chutar tudo, qual será a acurácia do modelo?\n",
    "count_scores = df['score_credito'].value_counts()\n",
    "\n",
    "for line in count_scores.to_frame().index:\n",
    "    print(f'se chutar tudo {line}: {((count_scores[line] / sum(count_scores)) * 100):.2f}%')\n",
    "\n",
    "# Verificar a acurácia das inteligências artificiais.\n",
    "prevision_dicision_tree = model_decision_tree.predict(x_test)\n",
    "prevision_knn = model_knn.predict(x_test)\n",
    "\n",
    "from sklearn.metrics import accuracy_score\n",
    "\n",
    "print(f'acuracia da arvore de decisao: {(accuracy_score(y_test, prevision_dicision_tree) * 100):.2f}%')\n",
    "print(f'acuracia do knn: {(accuracy_score(y_test, prevision_knn) * 100):.2f}%')"
   ]
  },
  {
   "cell_type": "code",
   "execution_count": null,
   "metadata": {},
   "outputs": [],
   "source": [
    "# quais as características mais importantes para definir o score de crédito.\n",
    "columns = list(x_test.columns)\n",
    "importance = pd.DataFrame(index=columns, data=model_decision_tree.feature_importances_, columns=['Importância'])\n",
    "importance = importance * 100\n",
    "print('Quais as caracteristicas mais importantes segundo arvore de decisao')\n",
    "display(importance.sort_values(by='Importância', ascending=False))"
   ]
  },
  {
   "cell_type": "code",
   "execution_count": null,
   "metadata": {},
   "outputs": [],
   "source": [
    "df_new_clients = pd.read_csv('novos_clientes.csv')\n",
    "display(df_new_clients)\n",
    "\n",
    "# codificar as colunas que contem texto. \n",
    "for column in df_new_clients.columns:\n",
    "    if df_new_clients[column].dtype == 'object' and column != 'score_credito':\n",
    "        df_new_clients[column] = LabelEncoder().fit_transform(df_new_clients[column])\n",
    "\n",
    "# verificando se as colunas foram codificadas.\n",
    "for column in df_new_clients.columns:\n",
    "    if df_new_clients[column].dtype == 'object' and column != 'score_credito':\n",
    "        print(column)"
   ]
  },
  {
   "cell_type": "code",
   "execution_count": null,
   "metadata": {},
   "outputs": [],
   "source": [
    "# fazendo as 2 IA`s compararem e julgarem o score de crédito dos clientes.\n",
    "predict_dicision_tree = model_decision_tree.predict(df_new_clients)\n",
    "predict_knn = model_knn.predict(df_new_clients)\n",
    "\n",
    "print('segundo a arvore de decisao')\n",
    "df_new_clients['score_credito'] = predict_dicision_tree\n",
    "display(df_new_clients)\n",
    "print('segundo o knn')\n",
    "df_new_clients['score_credito'] = predict_knn\n",
    "display(df_new_clients)"
   ]
  }
 ],
 "metadata": {
  "kernelspec": {
   "display_name": ".venv",
   "language": "python",
   "name": "python3"
  },
  "language_info": {
   "codemirror_mode": {
    "name": "ipython",
    "version": 3
   },
   "file_extension": ".py",
   "mimetype": "text/x-python",
   "name": "python",
   "nbconvert_exporter": "python",
   "pygments_lexer": "ipython3",
   "version": "3.11.5"
  }
 },
 "nbformat": 4,
 "nbformat_minor": 2
}
